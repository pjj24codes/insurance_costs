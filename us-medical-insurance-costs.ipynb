{
 "cells": [
  {
   "cell_type": "markdown",
   "metadata": {},
   "source": [
    "# U.S. Medical Insurance Costs"
   ]
  },
  {
   "cell_type": "markdown",
   "metadata": {},
   "source": [
    "What is the average age, average bmi, average amount of children, and most popular region of the top 10% of people who owe the most money?"
   ]
  },
  {
   "cell_type": "code",
   "execution_count": 138,
   "metadata": {},
   "outputs": [],
   "source": [
    "import numpy\n",
    "import csv\n",
    "with open('insurance.csv', newline='') as insurance_doc:\n",
    "    insurance_reader = list(csv.reader(insurance_doc, delimiter=','))"
   ]
  },
  {
   "cell_type": "markdown",
   "metadata": {},
   "source": [
    "Creating Cost to Person Dictionary"
   ]
  },
  {
   "cell_type": "code",
   "execution_count": 139,
   "metadata": {},
   "outputs": [],
   "source": [
    "cost_per_person = {}\n",
    "values = insurance_reader[1:]\n",
    "for value in values:\n",
    "    cost_per_person[float(value[6])] = {'age':int(value[0]),'sex':value[1],'bmi':float(value[2]),'children':float(value[3]),\n",
    "                         'smoker':value[4],'region':value[5],'charges':float(value[6])}\n",
    "    \n",
    "\n"
   ]
  },
  {
   "cell_type": "markdown",
   "metadata": {},
   "source": [
    "Creating top 10% dictionary"
   ]
  },
  {
   "cell_type": "code",
   "execution_count": 140,
   "metadata": {},
   "outputs": [],
   "source": [
    "top_10_cost = numpy.percentile(list(cost_per_person.keys()), 90)\n",
    "def top_10(cost_per_person):\n",
    "    new_cost_per_person = {}\n",
    "    for x,y in cost_per_person.items():\n",
    "        if x >= top_10_cost:\n",
    "            new_cost_per_person[x] = y\n",
    "    return new_cost_per_person\n",
    "\n",
    "cost_per_person = top_10(cost_per_person) \n"
   ]
  },
  {
   "cell_type": "markdown",
   "metadata": {},
   "source": [
    "Finding Average Age of Top 10%"
   ]
  },
  {
   "cell_type": "code",
   "execution_count": 141,
   "metadata": {},
   "outputs": [
    {
     "name": "stdout",
     "output_type": "stream",
     "text": [
      "The average age of the people in the top 10% of Medical Insurance Costs is 41.78\n"
     ]
    },
    {
     "data": {
      "text/plain": [
       "41.78"
      ]
     },
     "execution_count": 141,
     "metadata": {},
     "output_type": "execute_result"
    }
   ],
   "source": [
    "def average_age(cost_per_person):\n",
    "    ages = []\n",
    "    for x in cost_per_person.values():\n",
    "        ages.append(x['age'])\n",
    "    average_age = numpy.mean(ages)\n",
    "    print('The average age of the people in the top 10% of Medical Insurance Costs is ' + str(round((average_age),2)))\n",
    "    return round(average_age, 2)\n",
    "\n",
    "average_age(cost_per_person)"
   ]
  },
  {
   "cell_type": "markdown",
   "metadata": {},
   "source": [
    "Finding Average BMI of Top 10%"
   ]
  },
  {
   "cell_type": "code",
   "execution_count": 142,
   "metadata": {},
   "outputs": [
    {
     "name": "stdout",
     "output_type": "stream",
     "text": [
      "The average bmi of the people in the top 10% of Medical Insurance Costs is 35.65\n"
     ]
    },
    {
     "data": {
      "text/plain": [
       "35.65"
      ]
     },
     "execution_count": 142,
     "metadata": {},
     "output_type": "execute_result"
    }
   ],
   "source": [
    "def average_bmi(cost_per_person):\n",
    "    bmis = []\n",
    "    for x in cost_per_person.values():\n",
    "        bmis.append(x['bmi'])\n",
    "    average_bmi = numpy.mean(bmis)\n",
    "    print('The average bmi of the people in the top 10% of Medical Insurance Costs is ' + str(round((average_bmi),2)))\n",
    "    return round(average_bmi, 2)\n",
    "\n",
    "average_bmi(cost_per_person)"
   ]
  },
  {
   "cell_type": "markdown",
   "metadata": {},
   "source": [
    "Finding Average Amount of Children of Top 10%"
   ]
  },
  {
   "cell_type": "code",
   "execution_count": 143,
   "metadata": {},
   "outputs": [
    {
     "name": "stdout",
     "output_type": "stream",
     "text": [
      "The average amount of children of the people in the top 10% of Medical Insurance Costs is 1.22\n"
     ]
    },
    {
     "data": {
      "text/plain": [
       "1.22"
      ]
     },
     "execution_count": 143,
     "metadata": {},
     "output_type": "execute_result"
    }
   ],
   "source": [
    "def average_children(cost_per_person):\n",
    "    children = []\n",
    "    for x in cost_per_person.values():\n",
    "        children.append(x['children'])\n",
    "    average_children = numpy.mean(children)\n",
    "    print('The average amount of children of the people in the top 10% of Medical Insurance Costs is ' + str(round((average_children),2)))\n",
    "    return round(average_children, 2)\n",
    "\n",
    "average_children(cost_per_person)"
   ]
  },
  {
   "cell_type": "markdown",
   "metadata": {},
   "source": [
    "Finding Most Popular Region of the Top 10%"
   ]
  },
  {
   "cell_type": "code",
   "execution_count": 144,
   "metadata": {},
   "outputs": [
    {
     "name": "stdout",
     "output_type": "stream",
     "text": [
      "The most popular region of the people in the top 10% of medical insurance owers is southeast with 55 people\n"
     ]
    },
    {
     "data": {
      "text/plain": [
       "'southeast'"
      ]
     },
     "execution_count": 144,
     "metadata": {},
     "output_type": "execute_result"
    }
   ],
   "source": [
    "def most_popular_region(cost_per_person):\n",
    "    regions = {'northeast':0, 'northwest': 0, 'southeast': 0, 'southwest': 0}\n",
    "    for x in cost_per_person.values():\n",
    "        for a,b in regions.items():\n",
    "            if x['region'] == a:\n",
    "                regions[x['region']] = b + 1\n",
    "    most_popular_region  = None\n",
    "    people = 0\n",
    "    for a,b in regions.items():\n",
    "        if b > people:\n",
    "            most_popular_region = a\n",
    "            people = b\n",
    "    print('The most popular region of the people in the top 10% of medical insurance owers is ' + most_popular_region + ' with ' + str(people) + ' people')\n",
    "    return most_popular_region\n",
    "\n",
    "    \n",
    "most_popular_region(cost_per_person)"
   ]
  }
 ],
 "metadata": {
  "kernelspec": {
   "display_name": "Python 3",
   "language": "python",
   "name": "python3"
  },
  "language_info": {
   "codemirror_mode": {
    "name": "ipython",
    "version": 3
   },
   "file_extension": ".py",
   "mimetype": "text/x-python",
   "name": "python",
   "nbconvert_exporter": "python",
   "pygments_lexer": "ipython3",
   "version": "3.6.6"
  }
 },
 "nbformat": 4,
 "nbformat_minor": 4
}
